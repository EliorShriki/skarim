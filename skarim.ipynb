{
 "cells": [
  {
   "source": [
    "# Loading the questions\n",
    "\n",
    "We have different kinds of questions, here im gonna explain about each type.\n",
    "\n",
    "## Regular Questions:\n",
    "    Is a question that you have a scale of answers and you could only pick one answer.\n",
    "    For example:\n",
    "        Q: How satisfied are you so far?\n",
    "        A:  1. Not so.\n",
    "            2. Kind Of.\n",
    "            3. Very.\n",
    "\n",
    "## Semi Open Questions:\n",
    "    Is a question that have multiple answers to select from (you can select only one).\n",
    "    There is an option to select free text and provide your own answer to the given question.\n",
    "\n",
    "    for example:\n",
    "        Q: What is your greatest skill?\n",
    "        A:  1. Thinking outside the box.\n",
    "            2. Communication.\n",
    "            3. Hard working.\n",
    "            4. Other (explain):\n",
    "\n",
    "## Multiple Options Questions:\n",
    "    Similar to a regular question but here you can pick multiple answers.\n",
    "    For example:\n",
    "        Q: What are the programming languages that you know (you may pick more than one).\n",
    "        A:  1. Python.\n",
    "            2. Java.\n",
    "            3. C#.\n",
    "            4. Perl.\n",
    "            5. Ruby.\n",
    "\n",
    "## Fully Open Questions:\n",
    "    In this kind of questions you are given a question without a set of answers to choose from.\n",
    "    You have to provide your own answer to the question.\n",
    "\n",
    "    For example:\n",
    "        Q: Explain why we should hire you.\n",
    "        A: (can be any answer)"
   ],
   "cell_type": "markdown",
   "metadata": {}
  },
  {
   "cell_type": "code",
   "execution_count": 1,
   "metadata": {},
   "outputs": [],
   "source": [
    "# imports\n",
    "import pandas as pd\n",
    "import os\n",
    "from helper import *"
   ]
  },
  {
   "cell_type": "code",
   "execution_count": 2,
   "metadata": {},
   "outputs": [],
   "source": [
    "kod_file = pd.read_excel(os.getcwd() + r'\\seker\\seker_kod.xlsx')\n",
    "label_file = pd.read_excel(os.getcwd() + r'\\seker\\seker_label.xlsx')\n",
    "\n",
    "kod_file.set_index(keys=kod_file.columns[0], drop=True, inplace=True)\n",
    "label_file.set_index(keys=label_file.columns[0], drop=True, inplace=True)"
   ]
  },
  {
   "cell_type": "code",
   "execution_count": 3,
   "metadata": {
    "id": "LAWF4nAFzIaN"
   },
   "outputs": [],
   "source": [
    "# create df of shem sheela and mezahe sheela.\n",
    "q_names = kod_file.columns.tolist()\n",
    "q_mezahe = kod_file.iloc[0]\n",
    "questions = list(zip(q_names, q_mezahe))\n",
    "\n",
    "questions_df = pd.DataFrame(questions, columns=['shem_sheela','mezahe_sheela'])\n",
    "questions_df = questions_df[questions_df['mezahe_sheela'].isnull() == False]\n",
    "questions_df.set_index(keys=questions_df.columns[1], drop=False, inplace=True)"
   ]
  },
  {
   "cell_type": "code",
   "execution_count": 4,
   "metadata": {},
   "outputs": [],
   "source": [
    "kod_df = kod_file[questions_df['shem_sheela']]\n",
    "kod_df.columns = kod_df.iloc[0].tolist()\n",
    "kod_df.drop(index=kod_df.index[0], inplace=True)\n",
    "\n",
    "label_df = label_file[questions_df['shem_sheela']]\n",
    "label_df.columns = label_df.iloc[0].tolist()\n",
    "label_df.drop(index=label_df.index[0], inplace=True)"
   ]
  },
  {
   "cell_type": "code",
   "execution_count": 5,
   "metadata": {},
   "outputs": [],
   "source": [
    "cols = questions_df.index.tolist()\n",
    "semi_open = []\n",
    "for i in range(1,len(cols)):\n",
    "    cols[i] = str(cols[i])\n",
    "    if cols[i] == cols[i-1]:\n",
    "        cols[i] = cols[i] + '_dup'\n",
    "        semi_open.append(cols[i-1])\n",
    "\n",
    "questions_df.index = cols\n",
    "for dup in semi_open:\n",
    "    to_drp = dup + '_dup'\n",
    "    questions_df.drop(index=to_drp, inplace=True)\n",
    "\n",
    "questions_df['kod_sug_sheela'] = 1\n",
    "questions_df['kod_skala'] = 0"
   ]
  },
  {
   "cell_type": "code",
   "execution_count": 6,
   "metadata": {},
   "outputs": [],
   "source": [
    "kod_df = handle_semi_open(kod_df)\n",
    "label_df = handle_semi_open(label_df)\n",
    "\n",
    "data = pd.merge(kod_df, label_df, on=kod_df.index, how='inner', suffixes=('_kod', '_label'))\n",
    "data.set_index(keys=data.columns[1], drop=False, inplace=True)"
   ]
  },
  {
   "cell_type": "code",
   "execution_count": 7,
   "metadata": {},
   "outputs": [],
   "source": [
    "frames = []\n",
    "for q in questions_df.index.to_list():\n",
    "    df = data[['key_0', str(q) + '_kod', str(q) + '_label']]\n",
    "    df['mezahe_sheela'] = q\n",
    "    df.columns = ['mezahe_reshuma', 'kod_tshuva', 'shem_tshuva', 'mezahe_sheela']\n",
    "    frames.append(df)\n",
    "\n",
    "tshuvot = pd.concat(frames)\n",
    "tshuvot.set_index(keys=['mezahe_reshuma', 'mezahe_sheela'], drop=False, inplace=True)\n",
    "tshuvot['ind_free_text'] = 0"
   ]
  },
  {
   "cell_type": "code",
   "execution_count": 8,
   "metadata": {},
   "outputs": [],
   "source": [
    "sheelot_ptuchut = tshuvot[tshuvot['kod_tshuva'] == tshuvot['shem_tshuva']]['mezahe_sheela'].unique().tolist()\n",
    "sheelot_rav_breira = [x for x in tshuvot['mezahe_sheela'].unique().tolist() if len(str(x).split('.')) == 3]"
   ]
  },
  {
   "cell_type": "code",
   "execution_count": 9,
   "metadata": {},
   "outputs": [],
   "source": [
    "open_q = []\n",
    "for p in sheelot_ptuchut:\n",
    "    df = tshuvot.query(f\"mezahe_sheela == '{p}'\")\n",
    "    df['kod_tshuva'] = range(len(df['kod_tshuva'].tolist()))\n",
    "    df['ind_free_text'] = 1\n",
    "    questions_df['kod_sug_sheela'][p] = 3\n",
    "    open_q.append(df)\n",
    "open_q_df = pd.concat(open_q)"
   ]
  },
  {
   "cell_type": "code",
   "execution_count": 10,
   "metadata": {},
   "outputs": [],
   "source": [
    "semi_q = []\n",
    "for s in semi_open:\n",
    "    df = tshuvot.query(f\"mezahe_sheela == '{s}'\")\n",
    "    df['kod_tshuva'] = [tshu[0] for tshu in df['kod_tshuva'].tolist()]\n",
    "    ans = [(tshu[1] if tshu[1] != 'nan' else tshu[0], 1 if tshu[1] != 'nan' else 0) for tshu in df['shem_tshuva'].tolist()]\n",
    "    tshu_list = [x[0] for x in ans]\n",
    "    ind_list = [x[1] for x in ans]\n",
    "    df['ind_free_text'] = ind_list\n",
    "    df['shem_tshuva'] = tshu_list\n",
    "    questions_df['kod_sug_sheela'][s] = 4\n",
    "    semi_q.append(df)\n",
    "semi_q_df = pd.concat(semi_q)"
   ]
  },
  {
   "cell_type": "code",
   "execution_count": 11,
   "metadata": {},
   "outputs": [
    {
     "output_type": "stream",
     "name": "stdout",
     "text": [
      "{'22.53': ['22.53.1', '22.53.2', '22.53.3']}\n{'22.53': 'מי מהגורמים חושבים שאתה סתום? '}\n{'22.53.1': 'אבא', '22.53.2': 'אמא', '22.53.3': 'חברים'}\n"
     ]
    }
   ],
   "source": [
    "rav = {}\n",
    "sheelot_rav = {}\n",
    "sheelot_tshuvut = {}\n",
    "\n",
    "for r in sheelot_rav_breira:\n",
    "    sheelat_av = '.'.join(r.split('.')[0:2])\n",
    "    if sheelat_av not in rav:\n",
    "        rav[sheelat_av] = []\n",
    "    rav[sheelat_av].append(r)\n",
    "print(rav)\n",
    "\n",
    "for sheelat_av,sheelot in rav.items():\n",
    "    shemot = []\n",
    "    for sh in sheelot:\n",
    "        shemot.append(questions_df['shem_sheela'][sh])\n",
    "    sheelot_rav[sheelat_av] = get_lcs_list(shemot)\n",
    "print(sheelot_rav)\n",
    "\n",
    "for r in sheelot_rav_breira:\n",
    "    shem_s = questions_df['shem_sheela'][r]\n",
    "    sheelat_av = '.'.join(r.split('.')[0:2])\n",
    "    sheela_beemet = sheelot_rav[sheelat_av]\n",
    "    tshuva = shem_s.replace(sheela_beemet, '')\n",
    "    sheelot_tshuvut[r] = tshuva\n",
    "print(sheelot_tshuvut)"
   ]
  },
  {
   "cell_type": "code",
   "execution_count": 12,
   "metadata": {},
   "outputs": [],
   "source": [
    "sheelot_av = []\n",
    "for sheelat_av,sheelot in rav.items():\n",
    "    questions_df.drop(sheelot,inplace=True)\n",
    "    sheelot_av.append((sheelot_rav[sheelat_av], sheelat_av, 2, 0))\n",
    "\n",
    "sheelot_av_df = pd.DataFrame(sheelot_av, columns=['shem_sheela','mezahe_sheela','kod_sug_sheela','kod_skala'],)\n",
    "sheelot_av_df.set_index(keys='mezahe_sheela', drop=False, inplace=True)\n",
    "\n",
    "questions_df = pd.concat([questions_df, sheelot_av_df])\n",
    "questions_df.reset_index(inplace=True, drop=True)"
   ]
  },
  {
   "cell_type": "code",
   "execution_count": 13,
   "metadata": {},
   "outputs": [],
   "source": [
    "rav_q = []\n",
    "for sheelat_av,sheelot in rav.items():\n",
    "    temp_df = tshuvot[tshuvot['mezahe_sheela'].isin(sheelot)]\n",
    "    tshuvot.drop(index=temp_df.index.tolist(), inplace=True)\n",
    "    temp_idx = temp_df[temp_df['kod_tshuva'] == 0].index.tolist()\n",
    "    temp_df.drop(index=temp_idx, inplace=True)\n",
    "    temp_df['kod_tshuva'] = [x.split('.')[2] for x in temp_df['mezahe_sheela'].tolist()]\n",
    "    temp_df['shem_tshuva'] = [sheelot_tshuvut[x] for x in temp_df['mezahe_sheela'].tolist()]\n",
    "    temp_df['mezahe_sheela'] = sheelat_av\n",
    "    temp_df.reset_index(inplace=True, drop=True)\n",
    "    temp_df.set_index(keys=['mezahe_reshuma', 'mezahe_sheela'], inplace=True, drop=False)\n",
    "    rav_q.append(temp_df)\n",
    "\n",
    "rav_q_df = pd.concat(rav_q)"
   ]
  },
  {
   "cell_type": "code",
   "execution_count": 14,
   "metadata": {},
   "outputs": [],
   "source": [
    "tshuvot.drop(index=open_q_df.index.tolist(),inplace=True)\n",
    "tshuvot.drop(index=semi_q_df.index.tolist(),inplace=True)\n",
    "\n",
    "tshuvot = pd.concat([tshuvot, open_q_df, semi_q_df, rav_q_df])\n",
    "tshuvot.sort_index(inplace=True)"
   ]
  },
  {
   "cell_type": "code",
   "execution_count": 15,
   "metadata": {},
   "outputs": [
    {
     "output_type": "execute_result",
     "data": {
      "text/plain": [
       "                              mezahe_reshuma kod_tshuva  \\\n",
       "mezahe_reshuma mezahe_sheela                              \n",
       "123456.0       2.3                  123456.0          2   \n",
       "               13.37                123456.0        4.0   \n",
       "               14.39                123456.0          0   \n",
       "               22.53                123456.0          1   \n",
       "               22.53                123456.0          3   \n",
       "               3.4                  123456.0          5   \n",
       "               4.4                  123456.0          3   \n",
       "222222.0       2.3                  222222.0          1   \n",
       "               13.37                222222.0        2.0   \n",
       "               14.39                222222.0          1   \n",
       "               22.53                222222.0          2   \n",
       "               22.53                222222.0          3   \n",
       "               3.4                  222222.0          4   \n",
       "               4.4                  222222.0          2   \n",
       "333333.0       2.3                  333333.0          1   \n",
       "               13.37                333333.0        3.0   \n",
       "               14.39                333333.0          2   \n",
       "               3.4                  333333.0          3   \n",
       "               4.4                  333333.0          1   \n",
       "\n",
       "                                             shem_tshuva mezahe_sheela  \\\n",
       "mezahe_reshuma mezahe_sheela                                             \n",
       "123456.0       2.3                                  השאר           2.3   \n",
       "               13.37          הייתי מנסה ללמוד יותר בבית         13.37   \n",
       "               14.39                        יש מלא דברים         14.39   \n",
       "               22.53                                 אבא         22.53   \n",
       "               22.53                               חברים         22.53   \n",
       "               3.4                        במידה רבה מאוד           3.4   \n",
       "               4.4                         במידה בינונית           4.4   \n",
       "222222.0       2.3                                קצינים           2.3   \n",
       "               13.37                          קורא ספרים         13.37   \n",
       "               14.39                    שולחנות לא נקיים         14.39   \n",
       "               22.53                                 אמא         22.53   \n",
       "               22.53                               חברים         22.53   \n",
       "               3.4                             במידה רבה           3.4   \n",
       "               4.4                           במידה מועטה           4.4   \n",
       "333333.0       2.3                                קצינים           2.3   \n",
       "               13.37                        אין מה לעשות         13.37   \n",
       "               14.39                        רצפה מלוכלכת         14.39   \n",
       "               3.4                         במידה בינונית           3.4   \n",
       "               4.4                               בכלל לא           4.4   \n",
       "\n",
       "                              ind_free_text  \n",
       "mezahe_reshuma mezahe_sheela                 \n",
       "123456.0       2.3                        0  \n",
       "               13.37                      1  \n",
       "               14.39                      1  \n",
       "               22.53                      0  \n",
       "               22.53                      0  \n",
       "               3.4                        0  \n",
       "               4.4                        0  \n",
       "222222.0       2.3                        0  \n",
       "               13.37                      0  \n",
       "               14.39                      1  \n",
       "               22.53                      0  \n",
       "               22.53                      0  \n",
       "               3.4                        0  \n",
       "               4.4                        0  \n",
       "333333.0       2.3                        0  \n",
       "               13.37                      0  \n",
       "               14.39                      1  \n",
       "               3.4                        0  \n",
       "               4.4                        0  "
      ],
      "text/html": "<div>\n<style scoped>\n    .dataframe tbody tr th:only-of-type {\n        vertical-align: middle;\n    }\n\n    .dataframe tbody tr th {\n        vertical-align: top;\n    }\n\n    .dataframe thead th {\n        text-align: right;\n    }\n</style>\n<table border=\"1\" class=\"dataframe\">\n  <thead>\n    <tr style=\"text-align: right;\">\n      <th></th>\n      <th></th>\n      <th>mezahe_reshuma</th>\n      <th>kod_tshuva</th>\n      <th>shem_tshuva</th>\n      <th>mezahe_sheela</th>\n      <th>ind_free_text</th>\n    </tr>\n    <tr>\n      <th>mezahe_reshuma</th>\n      <th>mezahe_sheela</th>\n      <th></th>\n      <th></th>\n      <th></th>\n      <th></th>\n      <th></th>\n    </tr>\n  </thead>\n  <tbody>\n    <tr>\n      <th rowspan=\"7\" valign=\"top\">123456.0</th>\n      <th>2.3</th>\n      <td>123456.0</td>\n      <td>2</td>\n      <td>השאר</td>\n      <td>2.3</td>\n      <td>0</td>\n    </tr>\n    <tr>\n      <th>13.37</th>\n      <td>123456.0</td>\n      <td>4.0</td>\n      <td>הייתי מנסה ללמוד יותר בבית</td>\n      <td>13.37</td>\n      <td>1</td>\n    </tr>\n    <tr>\n      <th>14.39</th>\n      <td>123456.0</td>\n      <td>0</td>\n      <td>יש מלא דברים</td>\n      <td>14.39</td>\n      <td>1</td>\n    </tr>\n    <tr>\n      <th>22.53</th>\n      <td>123456.0</td>\n      <td>1</td>\n      <td>אבא</td>\n      <td>22.53</td>\n      <td>0</td>\n    </tr>\n    <tr>\n      <th>22.53</th>\n      <td>123456.0</td>\n      <td>3</td>\n      <td>חברים</td>\n      <td>22.53</td>\n      <td>0</td>\n    </tr>\n    <tr>\n      <th>3.4</th>\n      <td>123456.0</td>\n      <td>5</td>\n      <td>במידה רבה מאוד</td>\n      <td>3.4</td>\n      <td>0</td>\n    </tr>\n    <tr>\n      <th>4.4</th>\n      <td>123456.0</td>\n      <td>3</td>\n      <td>במידה בינונית</td>\n      <td>4.4</td>\n      <td>0</td>\n    </tr>\n    <tr>\n      <th rowspan=\"7\" valign=\"top\">222222.0</th>\n      <th>2.3</th>\n      <td>222222.0</td>\n      <td>1</td>\n      <td>קצינים</td>\n      <td>2.3</td>\n      <td>0</td>\n    </tr>\n    <tr>\n      <th>13.37</th>\n      <td>222222.0</td>\n      <td>2.0</td>\n      <td>קורא ספרים</td>\n      <td>13.37</td>\n      <td>0</td>\n    </tr>\n    <tr>\n      <th>14.39</th>\n      <td>222222.0</td>\n      <td>1</td>\n      <td>שולחנות לא נקיים</td>\n      <td>14.39</td>\n      <td>1</td>\n    </tr>\n    <tr>\n      <th>22.53</th>\n      <td>222222.0</td>\n      <td>2</td>\n      <td>אמא</td>\n      <td>22.53</td>\n      <td>0</td>\n    </tr>\n    <tr>\n      <th>22.53</th>\n      <td>222222.0</td>\n      <td>3</td>\n      <td>חברים</td>\n      <td>22.53</td>\n      <td>0</td>\n    </tr>\n    <tr>\n      <th>3.4</th>\n      <td>222222.0</td>\n      <td>4</td>\n      <td>במידה רבה</td>\n      <td>3.4</td>\n      <td>0</td>\n    </tr>\n    <tr>\n      <th>4.4</th>\n      <td>222222.0</td>\n      <td>2</td>\n      <td>במידה מועטה</td>\n      <td>4.4</td>\n      <td>0</td>\n    </tr>\n    <tr>\n      <th rowspan=\"5\" valign=\"top\">333333.0</th>\n      <th>2.3</th>\n      <td>333333.0</td>\n      <td>1</td>\n      <td>קצינים</td>\n      <td>2.3</td>\n      <td>0</td>\n    </tr>\n    <tr>\n      <th>13.37</th>\n      <td>333333.0</td>\n      <td>3.0</td>\n      <td>אין מה לעשות</td>\n      <td>13.37</td>\n      <td>0</td>\n    </tr>\n    <tr>\n      <th>14.39</th>\n      <td>333333.0</td>\n      <td>2</td>\n      <td>רצפה מלוכלכת</td>\n      <td>14.39</td>\n      <td>1</td>\n    </tr>\n    <tr>\n      <th>3.4</th>\n      <td>333333.0</td>\n      <td>3</td>\n      <td>במידה בינונית</td>\n      <td>3.4</td>\n      <td>0</td>\n    </tr>\n    <tr>\n      <th>4.4</th>\n      <td>333333.0</td>\n      <td>1</td>\n      <td>בכלל לא</td>\n      <td>4.4</td>\n      <td>0</td>\n    </tr>\n  </tbody>\n</table>\n</div>"
     },
     "metadata": {},
     "execution_count": 15
    }
   ],
   "source": [
    "tshuvot"
   ]
  },
  {
   "cell_type": "code",
   "execution_count": 16,
   "metadata": {},
   "outputs": [
    {
     "output_type": "execute_result",
     "data": {
      "text/plain": [
       "                           shem_sheela mezahe_sheela  kod_sug_sheela  \\\n",
       "0                                מיפוי           2.3               1   \n",
       "1  באיזה מידה את\\ה מרוצה משירותך בצבא?           3.4               1   \n",
       "2                באיזה מידה את\\ה סתום?           4.4               1   \n",
       "3      כיצד היית הופך אותך לפחות סתום?         13.37               4   \n",
       "4              ממה אתה לא מרוצה? פרט\\י         14.39               3   \n",
       "5       מי מהגורמים חושבים שאתה סתום?          22.53               2   \n",
       "\n",
       "   kod_skala  \n",
       "0          0  \n",
       "1          0  \n",
       "2          0  \n",
       "3          0  \n",
       "4          0  \n",
       "5          0  "
      ],
      "text/html": "<div>\n<style scoped>\n    .dataframe tbody tr th:only-of-type {\n        vertical-align: middle;\n    }\n\n    .dataframe tbody tr th {\n        vertical-align: top;\n    }\n\n    .dataframe thead th {\n        text-align: right;\n    }\n</style>\n<table border=\"1\" class=\"dataframe\">\n  <thead>\n    <tr style=\"text-align: right;\">\n      <th></th>\n      <th>shem_sheela</th>\n      <th>mezahe_sheela</th>\n      <th>kod_sug_sheela</th>\n      <th>kod_skala</th>\n    </tr>\n  </thead>\n  <tbody>\n    <tr>\n      <th>0</th>\n      <td>מיפוי</td>\n      <td>2.3</td>\n      <td>1</td>\n      <td>0</td>\n    </tr>\n    <tr>\n      <th>1</th>\n      <td>באיזה מידה את\\ה מרוצה משירותך בצבא?</td>\n      <td>3.4</td>\n      <td>1</td>\n      <td>0</td>\n    </tr>\n    <tr>\n      <th>2</th>\n      <td>באיזה מידה את\\ה סתום?</td>\n      <td>4.4</td>\n      <td>1</td>\n      <td>0</td>\n    </tr>\n    <tr>\n      <th>3</th>\n      <td>כיצד היית הופך אותך לפחות סתום?</td>\n      <td>13.37</td>\n      <td>4</td>\n      <td>0</td>\n    </tr>\n    <tr>\n      <th>4</th>\n      <td>ממה אתה לא מרוצה? פרט\\י</td>\n      <td>14.39</td>\n      <td>3</td>\n      <td>0</td>\n    </tr>\n    <tr>\n      <th>5</th>\n      <td>מי מהגורמים חושבים שאתה סתום?</td>\n      <td>22.53</td>\n      <td>2</td>\n      <td>0</td>\n    </tr>\n  </tbody>\n</table>\n</div>"
     },
     "metadata": {},
     "execution_count": 16
    }
   ],
   "source": [
    "questions_df"
   ]
  }
 ],
 "metadata": {
  "colab": {
   "authorship_tag": "ABX9TyPNmFaCGdSaA0HoRPMFv8j9",
   "collapsed_sections": [],
   "include_colab_link": true,
   "name": "skarim.ipynb",
   "provenance": []
  },
  "kernelspec": {
   "name": "python3",
   "display_name": "Python 3.8.5 64-bit (conda)",
   "metadata": {
    "interpreter": {
     "hash": "b3ba2566441a7c06988d0923437866b63cedc61552a5af99d1f4fb67d367b25f"
    }
   }
  },
  "language_info": {
   "codemirror_mode": {
    "name": "ipython",
    "version": 3
   },
   "file_extension": ".py",
   "mimetype": "text/x-python",
   "name": "python",
   "nbconvert_exporter": "python",
   "pygments_lexer": "ipython3",
   "version": "3.8.5-final"
  }
 },
 "nbformat": 4,
 "nbformat_minor": 4
}