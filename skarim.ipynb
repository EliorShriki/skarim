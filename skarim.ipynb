{
 "cells": [
  {
   "source": [
    "# Loading the questions\n",
    "\n",
    "We have different kinds of questions, here im gonna explain about each type.\n",
    "\n",
    "## Regular Questions:\n",
    "    Is a question that you have a scale of answers and you could only pick one answer.\n",
    "    For example:\n",
    "        Q: How satisfied are you so far?\n",
    "        A:  1. Not so.\n",
    "            2. Kind Of.\n",
    "            3. Very.\n",
    "\n",
    "## Semi Open Questions:\n",
    "    Is a question that have multiple answers to select from (you can select only one).\n",
    "    There is an option to select free text and provide your own answer to the given question.\n",
    "\n",
    "    for example:\n",
    "        Q: What is your greatest skill?\n",
    "        A:  1. Thinking outside the box.\n",
    "            2. Communication.\n",
    "            3. Hard working.\n",
    "            4. Other (explain):\n",
    "\n",
    "## Multiple Options Questions:\n",
    "    Similar to a regular question but here you can pick multiple answers.\n",
    "    For example:\n",
    "        Q: What are the programming languages that you know (you may pick more than one).\n",
    "        A:  1. Python.\n",
    "            2. Java.\n",
    "            3. C#.\n",
    "            4. Perl.\n",
    "            5. Ruby.\n",
    "\n",
    "## Fully Open Questions:\n",
    "    In this kind of questions you are given a question without a set of answers to choose from.\n",
    "    You have to provide your own answer to the question.\n",
    "\n",
    "    For example:\n",
    "        Q: Explain why we should hire you.\n",
    "        A: (can be any answer)"
   ],
   "cell_type": "markdown",
   "metadata": {}
  },
  {
   "cell_type": "code",
   "execution_count": 1,
   "metadata": {},
   "outputs": [],
   "source": [
    "# imports\n",
    "import pandas as pd\n",
    "import os\n",
    "from helper import *"
   ]
  },
  {
   "cell_type": "code",
   "execution_count": 2,
   "metadata": {},
   "outputs": [],
   "source": [
    "data, questions_df, semi_open = load_frames(os.getcwd() + r'\\seker\\seker_kod.xlsx', os.getcwd() + r'\\seker\\seker_label.xlsx')"
   ]
  },
  {
   "cell_type": "code",
   "execution_count": 3,
   "metadata": {},
   "outputs": [],
   "source": [
    "tshuvot_df, questions_df = create_tshuvot(data, questions_df, semi_open)"
   ]
  },
  {
   "cell_type": "code",
   "execution_count": 4,
   "metadata": {},
   "outputs": [
    {
     "output_type": "execute_result",
     "data": {
      "text/plain": [
       "                              mezahe_reshuma kod_tshuva  \\\n",
       "mezahe_reshuma mezahe_sheela                              \n",
       "123456.0       2.3                  123456.0          2   \n",
       "               13.37                123456.0        4.0   \n",
       "               14.39                123456.0          0   \n",
       "               22.53                123456.0          1   \n",
       "               22.53                123456.0          3   \n",
       "               3.4                  123456.0          5   \n",
       "               4.4                  123456.0          3   \n",
       "222222.0       2.3                  222222.0          1   \n",
       "               13.37                222222.0        2.0   \n",
       "               14.39                222222.0          1   \n",
       "               22.53                222222.0          2   \n",
       "               22.53                222222.0          3   \n",
       "               3.4                  222222.0          4   \n",
       "               4.4                  222222.0          2   \n",
       "333333.0       2.3                  333333.0          1   \n",
       "               13.37                333333.0        3.0   \n",
       "               14.39                333333.0          2   \n",
       "               3.4                  333333.0          3   \n",
       "               4.4                  333333.0          1   \n",
       "\n",
       "                                             shem_tshuva mezahe_sheela  \\\n",
       "mezahe_reshuma mezahe_sheela                                             \n",
       "123456.0       2.3                                  השאר           2.3   \n",
       "               13.37          הייתי מנסה ללמוד יותר בבית         13.37   \n",
       "               14.39                        יש מלא דברים         14.39   \n",
       "               22.53                                 אבא         22.53   \n",
       "               22.53                               חברים         22.53   \n",
       "               3.4                        במידה רבה מאוד           3.4   \n",
       "               4.4                         במידה בינונית           4.4   \n",
       "222222.0       2.3                                קצינים           2.3   \n",
       "               13.37                          קורא ספרים         13.37   \n",
       "               14.39                    שולחנות לא נקיים         14.39   \n",
       "               22.53                                 אמא         22.53   \n",
       "               22.53                               חברים         22.53   \n",
       "               3.4                             במידה רבה           3.4   \n",
       "               4.4                           במידה מועטה           4.4   \n",
       "333333.0       2.3                                קצינים           2.3   \n",
       "               13.37                        אין מה לעשות         13.37   \n",
       "               14.39                        רצפה מלוכלכת         14.39   \n",
       "               3.4                         במידה בינונית           3.4   \n",
       "               4.4                               בכלל לא           4.4   \n",
       "\n",
       "                              ind_free_text  \n",
       "mezahe_reshuma mezahe_sheela                 \n",
       "123456.0       2.3                        0  \n",
       "               13.37                      1  \n",
       "               14.39                      1  \n",
       "               22.53                      0  \n",
       "               22.53                      0  \n",
       "               3.4                        0  \n",
       "               4.4                        0  \n",
       "222222.0       2.3                        0  \n",
       "               13.37                      0  \n",
       "               14.39                      1  \n",
       "               22.53                      0  \n",
       "               22.53                      0  \n",
       "               3.4                        0  \n",
       "               4.4                        0  \n",
       "333333.0       2.3                        0  \n",
       "               13.37                      0  \n",
       "               14.39                      1  \n",
       "               3.4                        0  \n",
       "               4.4                        0  "
      ],
      "text/html": "<div>\n<style scoped>\n    .dataframe tbody tr th:only-of-type {\n        vertical-align: middle;\n    }\n\n    .dataframe tbody tr th {\n        vertical-align: top;\n    }\n\n    .dataframe thead th {\n        text-align: right;\n    }\n</style>\n<table border=\"1\" class=\"dataframe\">\n  <thead>\n    <tr style=\"text-align: right;\">\n      <th></th>\n      <th></th>\n      <th>mezahe_reshuma</th>\n      <th>kod_tshuva</th>\n      <th>shem_tshuva</th>\n      <th>mezahe_sheela</th>\n      <th>ind_free_text</th>\n    </tr>\n    <tr>\n      <th>mezahe_reshuma</th>\n      <th>mezahe_sheela</th>\n      <th></th>\n      <th></th>\n      <th></th>\n      <th></th>\n      <th></th>\n    </tr>\n  </thead>\n  <tbody>\n    <tr>\n      <th rowspan=\"7\" valign=\"top\">123456.0</th>\n      <th>2.3</th>\n      <td>123456.0</td>\n      <td>2</td>\n      <td>השאר</td>\n      <td>2.3</td>\n      <td>0</td>\n    </tr>\n    <tr>\n      <th>13.37</th>\n      <td>123456.0</td>\n      <td>4.0</td>\n      <td>הייתי מנסה ללמוד יותר בבית</td>\n      <td>13.37</td>\n      <td>1</td>\n    </tr>\n    <tr>\n      <th>14.39</th>\n      <td>123456.0</td>\n      <td>0</td>\n      <td>יש מלא דברים</td>\n      <td>14.39</td>\n      <td>1</td>\n    </tr>\n    <tr>\n      <th>22.53</th>\n      <td>123456.0</td>\n      <td>1</td>\n      <td>אבא</td>\n      <td>22.53</td>\n      <td>0</td>\n    </tr>\n    <tr>\n      <th>22.53</th>\n      <td>123456.0</td>\n      <td>3</td>\n      <td>חברים</td>\n      <td>22.53</td>\n      <td>0</td>\n    </tr>\n    <tr>\n      <th>3.4</th>\n      <td>123456.0</td>\n      <td>5</td>\n      <td>במידה רבה מאוד</td>\n      <td>3.4</td>\n      <td>0</td>\n    </tr>\n    <tr>\n      <th>4.4</th>\n      <td>123456.0</td>\n      <td>3</td>\n      <td>במידה בינונית</td>\n      <td>4.4</td>\n      <td>0</td>\n    </tr>\n    <tr>\n      <th rowspan=\"7\" valign=\"top\">222222.0</th>\n      <th>2.3</th>\n      <td>222222.0</td>\n      <td>1</td>\n      <td>קצינים</td>\n      <td>2.3</td>\n      <td>0</td>\n    </tr>\n    <tr>\n      <th>13.37</th>\n      <td>222222.0</td>\n      <td>2.0</td>\n      <td>קורא ספרים</td>\n      <td>13.37</td>\n      <td>0</td>\n    </tr>\n    <tr>\n      <th>14.39</th>\n      <td>222222.0</td>\n      <td>1</td>\n      <td>שולחנות לא נקיים</td>\n      <td>14.39</td>\n      <td>1</td>\n    </tr>\n    <tr>\n      <th>22.53</th>\n      <td>222222.0</td>\n      <td>2</td>\n      <td>אמא</td>\n      <td>22.53</td>\n      <td>0</td>\n    </tr>\n    <tr>\n      <th>22.53</th>\n      <td>222222.0</td>\n      <td>3</td>\n      <td>חברים</td>\n      <td>22.53</td>\n      <td>0</td>\n    </tr>\n    <tr>\n      <th>3.4</th>\n      <td>222222.0</td>\n      <td>4</td>\n      <td>במידה רבה</td>\n      <td>3.4</td>\n      <td>0</td>\n    </tr>\n    <tr>\n      <th>4.4</th>\n      <td>222222.0</td>\n      <td>2</td>\n      <td>במידה מועטה</td>\n      <td>4.4</td>\n      <td>0</td>\n    </tr>\n    <tr>\n      <th rowspan=\"5\" valign=\"top\">333333.0</th>\n      <th>2.3</th>\n      <td>333333.0</td>\n      <td>1</td>\n      <td>קצינים</td>\n      <td>2.3</td>\n      <td>0</td>\n    </tr>\n    <tr>\n      <th>13.37</th>\n      <td>333333.0</td>\n      <td>3.0</td>\n      <td>אין מה לעשות</td>\n      <td>13.37</td>\n      <td>0</td>\n    </tr>\n    <tr>\n      <th>14.39</th>\n      <td>333333.0</td>\n      <td>2</td>\n      <td>רצפה מלוכלכת</td>\n      <td>14.39</td>\n      <td>1</td>\n    </tr>\n    <tr>\n      <th>3.4</th>\n      <td>333333.0</td>\n      <td>3</td>\n      <td>במידה בינונית</td>\n      <td>3.4</td>\n      <td>0</td>\n    </tr>\n    <tr>\n      <th>4.4</th>\n      <td>333333.0</td>\n      <td>1</td>\n      <td>בכלל לא</td>\n      <td>4.4</td>\n      <td>0</td>\n    </tr>\n  </tbody>\n</table>\n</div>"
     },
     "metadata": {},
     "execution_count": 4
    }
   ],
   "source": [
    "tshuvot_df "
   ]
  },
  {
   "cell_type": "code",
   "execution_count": 5,
   "metadata": {},
   "outputs": [
    {
     "output_type": "execute_result",
     "data": {
      "text/plain": [
       "                           shem_sheela mezahe_sheela  kod_sug_sheela  \\\n",
       "0                                מיפוי           2.3               1   \n",
       "1  באיזה מידה את\\ה מרוצה משירותך בצבא?           3.4               1   \n",
       "2                באיזה מידה את\\ה סתום?           4.4               1   \n",
       "3      כיצד היית הופך אותך לפחות סתום?         13.37               4   \n",
       "4              ממה אתה לא מרוצה? פרט\\י         14.39               3   \n",
       "5       מי מהגורמים חושבים שאתה סתום?          22.53               2   \n",
       "\n",
       "   kod_skala  \n",
       "0          0  \n",
       "1          0  \n",
       "2          0  \n",
       "3          0  \n",
       "4          0  \n",
       "5          0  "
      ],
      "text/html": "<div>\n<style scoped>\n    .dataframe tbody tr th:only-of-type {\n        vertical-align: middle;\n    }\n\n    .dataframe tbody tr th {\n        vertical-align: top;\n    }\n\n    .dataframe thead th {\n        text-align: right;\n    }\n</style>\n<table border=\"1\" class=\"dataframe\">\n  <thead>\n    <tr style=\"text-align: right;\">\n      <th></th>\n      <th>shem_sheela</th>\n      <th>mezahe_sheela</th>\n      <th>kod_sug_sheela</th>\n      <th>kod_skala</th>\n    </tr>\n  </thead>\n  <tbody>\n    <tr>\n      <th>0</th>\n      <td>מיפוי</td>\n      <td>2.3</td>\n      <td>1</td>\n      <td>0</td>\n    </tr>\n    <tr>\n      <th>1</th>\n      <td>באיזה מידה את\\ה מרוצה משירותך בצבא?</td>\n      <td>3.4</td>\n      <td>1</td>\n      <td>0</td>\n    </tr>\n    <tr>\n      <th>2</th>\n      <td>באיזה מידה את\\ה סתום?</td>\n      <td>4.4</td>\n      <td>1</td>\n      <td>0</td>\n    </tr>\n    <tr>\n      <th>3</th>\n      <td>כיצד היית הופך אותך לפחות סתום?</td>\n      <td>13.37</td>\n      <td>4</td>\n      <td>0</td>\n    </tr>\n    <tr>\n      <th>4</th>\n      <td>ממה אתה לא מרוצה? פרט\\י</td>\n      <td>14.39</td>\n      <td>3</td>\n      <td>0</td>\n    </tr>\n    <tr>\n      <th>5</th>\n      <td>מי מהגורמים חושבים שאתה סתום?</td>\n      <td>22.53</td>\n      <td>2</td>\n      <td>0</td>\n    </tr>\n  </tbody>\n</table>\n</div>"
     },
     "metadata": {},
     "execution_count": 5
    }
   ],
   "source": [
    "questions_df"
   ]
  }
 ],
 "metadata": {
  "colab": {
   "authorship_tag": "ABX9TyPNmFaCGdSaA0HoRPMFv8j9",
   "collapsed_sections": [],
   "include_colab_link": true,
   "name": "skarim.ipynb",
   "provenance": []
  },
  "kernelspec": {
   "name": "python3",
   "display_name": "Python 3.8.5 64-bit (conda)",
   "metadata": {
    "interpreter": {
     "hash": "b3ba2566441a7c06988d0923437866b63cedc61552a5af99d1f4fb67d367b25f"
    }
   }
  },
  "language_info": {
   "codemirror_mode": {
    "name": "ipython",
    "version": 3
   },
   "file_extension": ".py",
   "mimetype": "text/x-python",
   "name": "python",
   "nbconvert_exporter": "python",
   "pygments_lexer": "ipython3",
   "version": "3.8.5-final"
  }
 },
 "nbformat": 4,
 "nbformat_minor": 4
}