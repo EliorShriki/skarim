{
 "cells": [
  {
   "source": [
    "# Loading the questions\n",
    "\n",
    "We have different kinds of questions, here im gonna explain about each type.\n",
    "\n",
    "## Regular Questions:\n",
    "    Is a question that you have a scale of answers and you could only pick one answer.\n",
    "    For example:\n",
    "        Q: How satisfied are you so far?\n",
    "        A:  1. Not so.\n",
    "            2. Kind Of.\n",
    "            3. Very.\n",
    "\n",
    "## Semi Open Questions:\n",
    "    Is a question that have multiple answers to select from (you can select only one).\n",
    "    There is an option to select free text and provide your own answer to the given question.\n",
    "\n",
    "    for example:\n",
    "        Q: What is your greatest skill?\n",
    "        A:  1. Thinking outside the box.\n",
    "            2. Communication.\n",
    "            3. Hard working.\n",
    "            4. Other (explain):\n",
    "\n",
    "## Multiple Options Questions:\n",
    "    Similar to a regular question but here you can pick multiple answers.\n",
    "    For example:\n",
    "        Q: What are the programming languages that you know (you may pick more than one).\n",
    "        A:  1. Python.\n",
    "            2. Java.\n",
    "            3. C#.\n",
    "            4. Perl.\n",
    "            5. Ruby.\n",
    "\n",
    "## Fully Open Questions:\n",
    "    In this kind of questions you are given a question without a set of answers to choose from.\n",
    "    You have to provide your own answer to the question.\n",
    "\n",
    "    For example:\n",
    "        Q: Explain why we should hire you.\n",
    "        A: (can be any answer)"
   ],
   "cell_type": "markdown",
   "metadata": {}
  },
  {
   "cell_type": "code",
   "execution_count": 1,
   "metadata": {},
   "outputs": [],
   "source": [
    "# imports\n",
    "import pandas as pd\n",
    "import os\n",
    "from helper import *"
   ]
  },
  {
   "cell_type": "code",
   "execution_count": 2,
   "metadata": {},
   "outputs": [],
   "source": [
    "kod_file = pd.read_excel(os.getcwd() + r'\\seker\\seker_kod.xlsx')\n",
    "label_file = pd.read_excel(os.getcwd() + r'\\seker\\seker_label.xlsx')\n",
    "\n",
    "kod_file.set_index(keys=kod_file.columns[0], drop=True, inplace=True)\n",
    "label_file.set_index(keys=label_file.columns[0], drop=True, inplace=True)"
   ]
  },
  {
   "cell_type": "code",
   "execution_count": 3,
   "metadata": {
    "id": "LAWF4nAFzIaN"
   },
   "outputs": [],
   "source": [
    "# create df of shem sheela and mezahe sheela.\n",
    "q_names = kod_file.columns.tolist()\n",
    "q_mezahe = kod_file.iloc[0]\n",
    "questions = list(zip(q_names, q_mezahe))\n",
    "\n",
    "questions_df = pd.DataFrame(questions, columns=['shem_sheela','mezahe_sheela'])\n",
    "questions_df = questions_df[questions_df['mezahe_sheela'].isnull() == False]\n",
    "questions_df.set_index(keys=questions_df.columns[1], drop=False, inplace=True)"
   ]
  },
  {
   "cell_type": "code",
   "execution_count": 4,
   "metadata": {},
   "outputs": [],
   "source": [
    "kod_df = kod_file[questions_df['shem_sheela']]\n",
    "kod_df.columns = kod_df.iloc[0].tolist()\n",
    "kod_df.drop(index=kod_df.index[0], inplace=True)\n",
    "\n",
    "label_df = label_file[questions_df['shem_sheela']]\n",
    "label_df.columns = label_df.iloc[0].tolist()\n",
    "label_df.drop(index=label_df.index[0], inplace=True)"
   ]
  },
  {
   "cell_type": "code",
   "execution_count": 5,
   "metadata": {},
   "outputs": [],
   "source": [
    "cols = questions_df.index.tolist()\n",
    "semi_open = []\n",
    "for i in range(1,len(cols)):\n",
    "    cols[i] = str(cols[i])\n",
    "    if cols[i] == cols[i-1]:\n",
    "        cols[i] = cols[i] + '_dup'\n",
    "        semi_open.append(cols[i-1])\n",
    "\n",
    "questions_df.index = cols\n",
    "for dup in semi_open:\n",
    "    to_drp = dup + '_dup'\n",
    "    questions_df.drop(index=to_drp, inplace=True)"
   ]
  },
  {
   "cell_type": "code",
   "execution_count": 6,
   "metadata": {},
   "outputs": [],
   "source": [
    "kod_df = handle_semi_open(kod_df)\n",
    "label_df = handle_semi_open(label_df)\n",
    "\n",
    "data = pd.merge(kod_df, label_df, on=kod_df.index, how='inner', suffixes=('_kod', '_label'))\n",
    "data.set_index(keys=data.columns[1], drop=False, inplace=True)"
   ]
  },
  {
   "cell_type": "code",
   "execution_count": 7,
   "metadata": {},
   "outputs": [],
   "source": [
    "frames = []\n",
    "for q in questions_df.index.to_list():\n",
    "    df = data[['key_0', str(q) + '_kod', str(q) + '_label']]\n",
    "    df['mezahe_sheela'] = q\n",
    "    df.columns = ['mezahe_reshuma', 'kod_tshuva', 'shem_tshuva', 'mezahe_sheela']\n",
    "    frames.append(df)\n",
    "\n",
    "tshuvut = pd.concat(frames)\n",
    "tshuvut.set_index(keys=['mezahe_reshuma', 'mezahe_sheela'], drop=False, inplace=True)"
   ]
  },
  {
   "cell_type": "code",
   "execution_count": 8,
   "metadata": {},
   "outputs": [],
   "source": [
    "sheelot_ptuchut = tshuvut[tshuvut['kod_tshuva'] == tshuvut['shem_tshuva']]['mezahe_sheela'].unique().tolist()\n",
    "sheelot_rav_breira = [x for x in tshuvut['mezahe_sheela'].unique().tolist() if len(str(x).split('.')) == 3]"
   ]
  },
  {
   "cell_type": "code",
   "execution_count": 37,
   "metadata": {},
   "outputs": [],
   "source": [
    "open_q = []\n",
    "for p in sheelot_ptuchut:\n",
    "    df = tshuvut.query(f\"mezahe_sheela == '{p}'\")\n",
    "    df['kod_tshuva'] = range(len(df['kod_tshuva'].tolist()))\n",
    "    open_q.append(df)\n",
    "open_q_df = pd.concat(open_q)"
   ]
  },
  {
   "cell_type": "code",
   "execution_count": 39,
   "metadata": {},
   "outputs": [],
   "source": [
    "tshuvut.drop(index=open_q_df.index.tolist(),inplace=True)\n",
    "tshuvut = pd.concat([tshuvut, open_q_df])\n",
    "tshuvut.sort_index(inplace=True)"
   ]
  }
 ],
 "metadata": {
  "colab": {
   "authorship_tag": "ABX9TyPNmFaCGdSaA0HoRPMFv8j9",
   "collapsed_sections": [],
   "include_colab_link": true,
   "name": "skarim.ipynb",
   "provenance": []
  },
  "kernelspec": {
   "name": "python3",
   "display_name": "Python 3.8.5 64-bit (conda)",
   "metadata": {
    "interpreter": {
     "hash": "b3ba2566441a7c06988d0923437866b63cedc61552a5af99d1f4fb67d367b25f"
    }
   }
  },
  "language_info": {
   "codemirror_mode": {
    "name": "ipython",
    "version": 3
   },
   "file_extension": ".py",
   "mimetype": "text/x-python",
   "name": "python",
   "nbconvert_exporter": "python",
   "pygments_lexer": "ipython3",
   "version": "3.8.5-final"
  }
 },
 "nbformat": 4,
 "nbformat_minor": 4
}