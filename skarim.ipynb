{
 "cells": [
  {
   "cell_type": "code",
   "execution_count": 7,
   "metadata": {},
   "outputs": [],
   "source": [
    "import pandas as pd\n",
    "import os\n",
    "from helper import *"
   ]
  },
  {
   "cell_type": "code",
   "execution_count": 9,
   "metadata": {},
   "outputs": [],
   "source": [
    "kod_file = pd.read_excel(os.getcwd() + r'\\seker\\seker_kod.xlsx')\n",
    "label_file = pd.read_excel(os.getcwd() + r'\\seker\\seker_label.xlsx')\n",
    "\n",
    "kod_file.set_index(keys=kod_file.columns[0], drop=True, inplace=True)\n",
    "label_file.set_index(keys=label_file.columns[0], drop=True, inplace=True)"
   ]
  },
  {
   "source": [
    "# Loading the questions\n",
    "\n",
    "* create a data frame for mezahe sheela and shem sheela\n",
    "* handle the duplicate (semi-open) questions"
   ],
   "cell_type": "markdown",
   "metadata": {}
  },
  {
   "cell_type": "code",
   "execution_count": 10,
   "metadata": {
    "id": "LAWF4nAFzIaN"
   },
   "outputs": [],
   "source": [
    "# create df of shem sheela and mezahe sheela.\n",
    "q_names = kod_file.columns.tolist()\n",
    "q_mezahe = kod_file.iloc[0]\n",
    "questions = list(zip(q_names, q_mezahe))\n",
    "questions_df = pd.DataFrame(questions, columns=['shem_sheela','mezahe_sheela'])\n",
    "questions_df = questions_df[questions_df['mezahe_sheela'].isnull() == False]\n",
    "questions_df.set_index(keys=questions_df.columns[1], drop=False, inplace=True)"
   ]
  },
  {
   "cell_type": "code",
   "execution_count": 11,
   "metadata": {},
   "outputs": [],
   "source": [
    "kod_df = kod_file[questions_df['shem_sheela']]\n",
    "kod_df.columns = kod_df.iloc[0].tolist()\n",
    "kod_df.drop(index=kod_df.index[0], inplace=True)\n",
    "\n",
    "label_df = label_file[questions_df['shem_sheela']]\n",
    "label_df.columns = label_df.iloc[0].tolist()\n",
    "label_df.drop(index=label_df.index[0], inplace=True)"
   ]
  },
  {
   "cell_type": "code",
   "execution_count": 12,
   "metadata": {},
   "outputs": [],
   "source": [
    "cols = questions_df.index.tolist()\n",
    "semi_open = []\n",
    "for i in range(1,len(cols)):\n",
    "    cols[i] = str(cols[i])\n",
    "    if cols[i] == cols[i-1]:\n",
    "        cols[i] = cols[i] + '_dup'\n",
    "        semi_open.append(cols[i-1])\n",
    "\n",
    "questions_df.index = cols\n",
    "for dup in semi_open:\n",
    "    to_drp = dup + '_dup'\n",
    "    questions_df.drop(index=to_drp, inplace=True)"
   ]
  },
  {
   "cell_type": "code",
   "execution_count": 13,
   "metadata": {},
   "outputs": [],
   "source": [
    "kod_df = handle_semi_open(kod_df)\n",
    "label_df = handle_semi_open(label_df)\n",
    "\n",
    "data = pd.merge(kod_df, label_df, on=kod_df.index, how='inner', suffixes=('_kod', '_label'))\n",
    "data.set_index(keys=data.columns[1], drop=False, inplace=True)"
   ]
  },
  {
   "cell_type": "code",
   "execution_count": 25,
   "metadata": {},
   "outputs": [
    {
     "output_type": "execute_result",
     "data": {
      "text/plain": [
       "                              mezahe_reshuma  \\\n",
       "mezahe_reshuma mezahe_sheela                   \n",
       "123456.0       2.3                  123456.0   \n",
       "222222.0       2.3                  222222.0   \n",
       "333333.0       2.3                  333333.0   \n",
       "123456.0       3.4                  123456.0   \n",
       "222222.0       3.4                  222222.0   \n",
       "333333.0       3.4                  333333.0   \n",
       "123456.0       4.4                  123456.0   \n",
       "222222.0       4.4                  222222.0   \n",
       "333333.0       4.4                  333333.0   \n",
       "123456.0       13.37                123456.0   \n",
       "222222.0       13.37                222222.0   \n",
       "333333.0       13.37                333333.0   \n",
       "123456.0       14.39                123456.0   \n",
       "222222.0       14.39                222222.0   \n",
       "333333.0       14.39                333333.0   \n",
       "123456.0       22.53.1              123456.0   \n",
       "222222.0       22.53.1              222222.0   \n",
       "333333.0       22.53.1              333333.0   \n",
       "123456.0       22.53.2              123456.0   \n",
       "222222.0       22.53.2              222222.0   \n",
       "333333.0       22.53.2              333333.0   \n",
       "123456.0       22.53.3              123456.0   \n",
       "222222.0       22.53.3              222222.0   \n",
       "333333.0       22.53.3              333333.0   \n",
       "\n",
       "                                                     kod_tshuva  \\\n",
       "mezahe_reshuma mezahe_sheela                                      \n",
       "123456.0       2.3                                            2   \n",
       "222222.0       2.3                                            1   \n",
       "333333.0       2.3                                            1   \n",
       "123456.0       3.4                                            5   \n",
       "222222.0       3.4                                            4   \n",
       "333333.0       3.4                                            3   \n",
       "123456.0       4.4                                            3   \n",
       "222222.0       4.4                                            2   \n",
       "333333.0       4.4                                            1   \n",
       "123456.0       13.37          (4.0, הייתי מנסה ללמוד יותר בבית)   \n",
       "222222.0       13.37                                 (2.0, nan)   \n",
       "333333.0       13.37                                 (3.0, nan)   \n",
       "123456.0       14.39                               יש מלא דברים   \n",
       "222222.0       14.39                           שולחנות לא נקיים   \n",
       "333333.0       14.39                               רצפה מלוכלכת   \n",
       "123456.0       22.53.1                                        1   \n",
       "222222.0       22.53.1                                        0   \n",
       "333333.0       22.53.1                                        0   \n",
       "123456.0       22.53.2                                        0   \n",
       "222222.0       22.53.2                                        1   \n",
       "333333.0       22.53.2                                        0   \n",
       "123456.0       22.53.3                                        1   \n",
       "222222.0       22.53.3                                        1   \n",
       "333333.0       22.53.3                                        0   \n",
       "\n",
       "                                                            shem_tshuva  \\\n",
       "mezahe_reshuma mezahe_sheela                                              \n",
       "123456.0       2.3                                                 השאר   \n",
       "222222.0       2.3                                               קצינים   \n",
       "333333.0       2.3                                               קצינים   \n",
       "123456.0       3.4                                       במידה רבה מאוד   \n",
       "222222.0       3.4                                            במידה רבה   \n",
       "333333.0       3.4                                        במידה בינונית   \n",
       "123456.0       4.4                                        במידה בינונית   \n",
       "222222.0       4.4                                          במידה מועטה   \n",
       "333333.0       4.4                                              בכלל לא   \n",
       "123456.0       13.37          (אחר, פרט\\י:, הייתי מנסה ללמוד יותר בבית)   \n",
       "222222.0       13.37                                  (קורא ספרים, nan)   \n",
       "333333.0       13.37                                (אין מה לעשות, nan)   \n",
       "123456.0       14.39                                       יש מלא דברים   \n",
       "222222.0       14.39                                   שולחנות לא נקיים   \n",
       "333333.0       14.39                                       רצפה מלוכלכת   \n",
       "123456.0       22.53.1                                               כן   \n",
       "222222.0       22.53.1                                               לא   \n",
       "333333.0       22.53.1                                               לא   \n",
       "123456.0       22.53.2                                               לא   \n",
       "222222.0       22.53.2                                               כן   \n",
       "333333.0       22.53.2                                               לא   \n",
       "123456.0       22.53.3                                               כן   \n",
       "222222.0       22.53.3                                               כן   \n",
       "333333.0       22.53.3                                               לא   \n",
       "\n",
       "                             mezahe_sheela  \n",
       "mezahe_reshuma mezahe_sheela                \n",
       "123456.0       2.3                     2.3  \n",
       "222222.0       2.3                     2.3  \n",
       "333333.0       2.3                     2.3  \n",
       "123456.0       3.4                     3.4  \n",
       "222222.0       3.4                     3.4  \n",
       "333333.0       3.4                     3.4  \n",
       "123456.0       4.4                     4.4  \n",
       "222222.0       4.4                     4.4  \n",
       "333333.0       4.4                     4.4  \n",
       "123456.0       13.37                 13.37  \n",
       "222222.0       13.37                 13.37  \n",
       "333333.0       13.37                 13.37  \n",
       "123456.0       14.39                 14.39  \n",
       "222222.0       14.39                 14.39  \n",
       "333333.0       14.39                 14.39  \n",
       "123456.0       22.53.1             22.53.1  \n",
       "222222.0       22.53.1             22.53.1  \n",
       "333333.0       22.53.1             22.53.1  \n",
       "123456.0       22.53.2             22.53.2  \n",
       "222222.0       22.53.2             22.53.2  \n",
       "333333.0       22.53.2             22.53.2  \n",
       "123456.0       22.53.3             22.53.3  \n",
       "222222.0       22.53.3             22.53.3  \n",
       "333333.0       22.53.3             22.53.3  "
      ],
      "text/html": "<div>\n<style scoped>\n    .dataframe tbody tr th:only-of-type {\n        vertical-align: middle;\n    }\n\n    .dataframe tbody tr th {\n        vertical-align: top;\n    }\n\n    .dataframe thead th {\n        text-align: right;\n    }\n</style>\n<table border=\"1\" class=\"dataframe\">\n  <thead>\n    <tr style=\"text-align: right;\">\n      <th></th>\n      <th></th>\n      <th>mezahe_reshuma</th>\n      <th>kod_tshuva</th>\n      <th>shem_tshuva</th>\n      <th>mezahe_sheela</th>\n    </tr>\n    <tr>\n      <th>mezahe_reshuma</th>\n      <th>mezahe_sheela</th>\n      <th></th>\n      <th></th>\n      <th></th>\n      <th></th>\n    </tr>\n  </thead>\n  <tbody>\n    <tr>\n      <th>123456.0</th>\n      <th>2.3</th>\n      <td>123456.0</td>\n      <td>2</td>\n      <td>השאר</td>\n      <td>2.3</td>\n    </tr>\n    <tr>\n      <th>222222.0</th>\n      <th>2.3</th>\n      <td>222222.0</td>\n      <td>1</td>\n      <td>קצינים</td>\n      <td>2.3</td>\n    </tr>\n    <tr>\n      <th>333333.0</th>\n      <th>2.3</th>\n      <td>333333.0</td>\n      <td>1</td>\n      <td>קצינים</td>\n      <td>2.3</td>\n    </tr>\n    <tr>\n      <th>123456.0</th>\n      <th>3.4</th>\n      <td>123456.0</td>\n      <td>5</td>\n      <td>במידה רבה מאוד</td>\n      <td>3.4</td>\n    </tr>\n    <tr>\n      <th>222222.0</th>\n      <th>3.4</th>\n      <td>222222.0</td>\n      <td>4</td>\n      <td>במידה רבה</td>\n      <td>3.4</td>\n    </tr>\n    <tr>\n      <th>333333.0</th>\n      <th>3.4</th>\n      <td>333333.0</td>\n      <td>3</td>\n      <td>במידה בינונית</td>\n      <td>3.4</td>\n    </tr>\n    <tr>\n      <th>123456.0</th>\n      <th>4.4</th>\n      <td>123456.0</td>\n      <td>3</td>\n      <td>במידה בינונית</td>\n      <td>4.4</td>\n    </tr>\n    <tr>\n      <th>222222.0</th>\n      <th>4.4</th>\n      <td>222222.0</td>\n      <td>2</td>\n      <td>במידה מועטה</td>\n      <td>4.4</td>\n    </tr>\n    <tr>\n      <th>333333.0</th>\n      <th>4.4</th>\n      <td>333333.0</td>\n      <td>1</td>\n      <td>בכלל לא</td>\n      <td>4.4</td>\n    </tr>\n    <tr>\n      <th>123456.0</th>\n      <th>13.37</th>\n      <td>123456.0</td>\n      <td>(4.0, הייתי מנסה ללמוד יותר בבית)</td>\n      <td>(אחר, פרט\\י:, הייתי מנסה ללמוד יותר בבית)</td>\n      <td>13.37</td>\n    </tr>\n    <tr>\n      <th>222222.0</th>\n      <th>13.37</th>\n      <td>222222.0</td>\n      <td>(2.0, nan)</td>\n      <td>(קורא ספרים, nan)</td>\n      <td>13.37</td>\n    </tr>\n    <tr>\n      <th>333333.0</th>\n      <th>13.37</th>\n      <td>333333.0</td>\n      <td>(3.0, nan)</td>\n      <td>(אין מה לעשות, nan)</td>\n      <td>13.37</td>\n    </tr>\n    <tr>\n      <th>123456.0</th>\n      <th>14.39</th>\n      <td>123456.0</td>\n      <td>יש מלא דברים</td>\n      <td>יש מלא דברים</td>\n      <td>14.39</td>\n    </tr>\n    <tr>\n      <th>222222.0</th>\n      <th>14.39</th>\n      <td>222222.0</td>\n      <td>שולחנות לא נקיים</td>\n      <td>שולחנות לא נקיים</td>\n      <td>14.39</td>\n    </tr>\n    <tr>\n      <th>333333.0</th>\n      <th>14.39</th>\n      <td>333333.0</td>\n      <td>רצפה מלוכלכת</td>\n      <td>רצפה מלוכלכת</td>\n      <td>14.39</td>\n    </tr>\n    <tr>\n      <th>123456.0</th>\n      <th>22.53.1</th>\n      <td>123456.0</td>\n      <td>1</td>\n      <td>כן</td>\n      <td>22.53.1</td>\n    </tr>\n    <tr>\n      <th>222222.0</th>\n      <th>22.53.1</th>\n      <td>222222.0</td>\n      <td>0</td>\n      <td>לא</td>\n      <td>22.53.1</td>\n    </tr>\n    <tr>\n      <th>333333.0</th>\n      <th>22.53.1</th>\n      <td>333333.0</td>\n      <td>0</td>\n      <td>לא</td>\n      <td>22.53.1</td>\n    </tr>\n    <tr>\n      <th>123456.0</th>\n      <th>22.53.2</th>\n      <td>123456.0</td>\n      <td>0</td>\n      <td>לא</td>\n      <td>22.53.2</td>\n    </tr>\n    <tr>\n      <th>222222.0</th>\n      <th>22.53.2</th>\n      <td>222222.0</td>\n      <td>1</td>\n      <td>כן</td>\n      <td>22.53.2</td>\n    </tr>\n    <tr>\n      <th>333333.0</th>\n      <th>22.53.2</th>\n      <td>333333.0</td>\n      <td>0</td>\n      <td>לא</td>\n      <td>22.53.2</td>\n    </tr>\n    <tr>\n      <th>123456.0</th>\n      <th>22.53.3</th>\n      <td>123456.0</td>\n      <td>1</td>\n      <td>כן</td>\n      <td>22.53.3</td>\n    </tr>\n    <tr>\n      <th>222222.0</th>\n      <th>22.53.3</th>\n      <td>222222.0</td>\n      <td>1</td>\n      <td>כן</td>\n      <td>22.53.3</td>\n    </tr>\n    <tr>\n      <th>333333.0</th>\n      <th>22.53.3</th>\n      <td>333333.0</td>\n      <td>0</td>\n      <td>לא</td>\n      <td>22.53.3</td>\n    </tr>\n  </tbody>\n</table>\n</div>"
     },
     "metadata": {},
     "execution_count": 25
    }
   ],
   "source": [
    "frames = []\n",
    "for q in questions_df.index.to_list():\n",
    "    df = data[['key_0', str(q) + '_kod', str(q) + '_label']]\n",
    "    df['mezahe_sheela'] = q\n",
    "    df.columns = ['mezahe_reshuma', 'kod_tshuva', 'shem_tshuva', 'mezahe_sheela']\n",
    "    frames.append(df)\n",
    "\n",
    "result = pd.concat(frames)\n",
    "result.set_index(keys=['mezahe_reshuma', 'mezahe_sheela'], drop=False, inplace=True)\n",
    "result "
   ]
  }
 ],
 "metadata": {
  "colab": {
   "authorship_tag": "ABX9TyPNmFaCGdSaA0HoRPMFv8j9",
   "collapsed_sections": [],
   "include_colab_link": true,
   "name": "skarim.ipynb",
   "provenance": []
  },
  "kernelspec": {
   "display_name": "Python 3",
   "language": "python",
   "name": "python3"
  },
  "language_info": {
   "codemirror_mode": {
    "name": "ipython",
    "version": 3
   },
   "file_extension": ".py",
   "mimetype": "text/x-python",
   "name": "python",
   "nbconvert_exporter": "python",
   "pygments_lexer": "ipython3",
   "version": "3.8.3-final"
  }
 },
 "nbformat": 4,
 "nbformat_minor": 4
}