{
 "cells": [
  {
   "cell_type": "code",
   "execution_count": null,
   "metadata": {},
   "outputs": [],
   "source": [
    "import pandas as pd\n",
    "import os\n",
    "from helper import *"
   ]
  },
  {
   "cell_type": "code",
   "execution_count": null,
   "metadata": {},
   "outputs": [],
   "source": [
    "kod_file = pd.read_excel(os.getcwd() + r'\\seker\\seker_kod.xlsx')\n",
    "label_file = pd.read_excel(os.getcwd() + r'\\seker\\seker_label.xlsx')\n",
    "\n",
    "kod_file.set_index(keys=kod_file.columns[0], drop=True, inplace=True)\n",
    "label_file.set_index(keys=label_file.columns[0], drop=True, inplace=True)"
   ]
  },
  {
   "source": [
    "# Loading the questions\n",
    "\n",
    "* create a data frame for mezahe sheela and shem sheela\n",
    "* handle the duplicate (semi-open) questions"
   ],
   "cell_type": "markdown",
   "metadata": {}
  },
  {
   "cell_type": "code",
   "execution_count": null,
   "metadata": {
    "id": "LAWF4nAFzIaN"
   },
   "outputs": [],
   "source": [
    "# create df of shem sheela and mezahe sheela.\n",
    "q_names = kod_file.columns.tolist()\n",
    "q_mezahe = kod_file.iloc[0]\n",
    "questions = list(zip(q_names, q_mezahe))\n",
    "questions_df = pd.DataFrame(questions, columns=['shem_sheela','mezahe_sheela'])\n",
    "questions_df = questions_df[questions_df['mezahe_sheela'].isnull() == False]\n",
    "questions_df.set_index(keys=questions_df.columns[1], drop=False, inplace=True)"
   ]
  },
  {
   "cell_type": "code",
   "execution_count": null,
   "metadata": {},
   "outputs": [],
   "source": [
    "kod_df = kod_file[questions_df['shem_sheela']]\n",
    "kod_df.columns = kod_df.iloc[0].tolist()\n",
    "kod_df.drop(index=kod_df.index[0], inplace=True)\n",
    "\n",
    "label_df = label_file[questions_df['shem_sheela']]\n",
    "label_df.columns = label_df.iloc[0].tolist()\n",
    "label_df.drop(index=label_df.index[0], inplace=True)"
   ]
  },
  {
   "cell_type": "code",
   "execution_count": null,
   "metadata": {},
   "outputs": [],
   "source": [
    "cols = questions_df.index.tolist()\n",
    "semi_open = []\n",
    "for i in range(1,len(cols)):\n",
    "    cols[i] = str(cols[i])\n",
    "    if cols[i] == cols[i-1]:\n",
    "        cols[i] = cols[i] + '_dup'\n",
    "        semi_open.append(cols[i-1])\n",
    "\n",
    "questions_df.index = cols\n",
    "for dup in semi_open:\n",
    "    to_drp = dup + '_dup'\n",
    "    questions_df.drop(index=to_drp, inplace=True)"
   ]
  },
  {
   "cell_type": "code",
   "execution_count": null,
   "metadata": {},
   "outputs": [],
   "source": [
    "kod_df = handle_semi_open(kod_df)\n",
    "label_df = handle_semi_open(label_df)"
   ]
  },
  {
   "cell_type": "code",
   "execution_count": null,
   "metadata": {},
   "outputs": [],
   "source": []
  }
 ],
 "metadata": {
  "colab": {
   "authorship_tag": "ABX9TyPNmFaCGdSaA0HoRPMFv8j9",
   "collapsed_sections": [],
   "include_colab_link": true,
   "name": "skarim.ipynb",
   "provenance": []
  },
  "kernelspec": {
   "display_name": "Python 3",
   "language": "python",
   "name": "python3"
  },
  "language_info": {
   "codemirror_mode": {
    "name": "ipython",
    "version": 3
   },
   "file_extension": ".py",
   "mimetype": "text/x-python",
   "name": "python",
   "nbconvert_exporter": "python",
   "pygments_lexer": "ipython3",
   "version": "3.8.3-final"
  }
 },
 "nbformat": 4,
 "nbformat_minor": 4
}